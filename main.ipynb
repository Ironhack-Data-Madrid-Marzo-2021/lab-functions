{
 "cells": [
  {
   "cell_type": "markdown",
   "metadata": {},
   "source": [
    "# Functions"
   ]
  },
  {
   "cell_type": "markdown",
   "metadata": {},
   "source": [
    "On this lab we will put to practice some of the concepts we have learned on this past few days.\n",
    "\n",
    "`NOTE: On this lab you should try to write all the functions yourself using only the most basic of python syntax and without functions such as len, count, sum, max, min, in, etc. Give it a try. 🧑🏻‍💻👩🏻‍💻`\n",
    "\n",
    "The cell after each exercise contains a few tests to check if your function works as expected."
   ]
  },
  {
   "cell_type": "markdown",
   "metadata": {},
   "source": [
    "🚀"
   ]
  },
  {
   "cell_type": "markdown",
   "metadata": {},
   "source": [
    "count_sheeps = lambda x: len(filter(bool, x))"
   ]
  },
  {
   "cell_type": "code",
   "execution_count": 3,
   "metadata": {},
   "outputs": [],
   "source": [
    "from mod.testing import *\n",
    "import unittest"
   ]
  },
  {
   "cell_type": "markdown",
   "metadata": {},
   "source": [
    "## 1. Write a function that returns the greater of two numbers"
   ]
  },
  {
   "cell_type": "code",
   "execution_count": 4,
   "metadata": {},
   "outputs": [],
   "source": [
    "def greater(a,b):\n",
    "    '''\n",
    "    Return the greater o two number\n",
    "    Args:\n",
    "        a = fisrt number to compare\n",
    "        b = second number to compare\n",
    "    Return:\n",
    "        return the greater value introduced\n",
    "        return None if bith value are equal  \n",
    "    \n",
    "    '''\n",
    "    if a > b:\n",
    "        return a\n",
    "    elif b > a:\n",
    "        return b\n",
    "    else:\n",
    "        print ('los dos elementos son iguales')\n",
    "        return None\n",
    "    pass"
   ]
  },
  {
   "cell_type": "code",
   "execution_count": 5,
   "metadata": {
    "scrolled": false
   },
   "outputs": [
    {
     "name": "stderr",
     "output_type": "stream",
     "text": [
      "....................................................................................................\n",
      "----------------------------------------------------------------------\n",
      "Ran 100 tests in 0.188s\n",
      "\n",
      "OK\n"
     ]
    }
   ],
   "source": [
    "# This will test your function \n",
    "test_greater(greater)"
   ]
  },
  {
   "cell_type": "markdown",
   "metadata": {},
   "source": [
    "## 2. Now write a function that returns the largest element on a list"
   ]
  },
  {
   "cell_type": "code",
   "execution_count": 6,
   "metadata": {},
   "outputs": [],
   "source": [
    "def greatest(arr):\n",
    "    aux = 0\n",
    "    for num in arr:\n",
    "        if num > aux:\n",
    "            aux = num\n",
    "    return aux\n"
   ]
  },
  {
   "cell_type": "code",
   "execution_count": 7,
   "metadata": {},
   "outputs": [
    {
     "name": "stderr",
     "output_type": "stream",
     "text": [
      "....................................................................................................\n",
      "----------------------------------------------------------------------\n",
      "Ran 100 tests in 0.219s\n",
      "\n",
      "OK\n"
     ]
    }
   ],
   "source": [
    "# This will test your function \n",
    "test_greatest(greatest)"
   ]
  },
  {
   "cell_type": "markdown",
   "metadata": {},
   "source": [
    "## 3. Write a function that sums all the elements on a list"
   ]
  },
  {
   "cell_type": "code",
   "execution_count": 8,
   "metadata": {},
   "outputs": [],
   "source": [
    "def sum_all(arr):\n",
    "    sumatorio = 0\n",
    "    for n in arr:\n",
    "        sumatorio += n\n",
    "    return sumatorio\n",
    "\n",
    "# se podría hacer con reduce pero 😥\n",
    "# sumatorio = functools.reduce(lambda a, b : a + b, arr)"
   ]
  },
  {
   "cell_type": "code",
   "execution_count": 9,
   "metadata": {},
   "outputs": [
    {
     "name": "stderr",
     "output_type": "stream",
     "text": [
      "....................................................................................................\n",
      "----------------------------------------------------------------------\n",
      "Ran 100 tests in 0.226s\n",
      "\n",
      "OK\n"
     ]
    }
   ],
   "source": [
    "# This will test your function \n",
    "test_sum(sum_all)"
   ]
  },
  {
   "cell_type": "markdown",
   "metadata": {},
   "source": [
    "## 4. Write another function that multiplies all the elements on a list"
   ]
  },
  {
   "cell_type": "code",
   "execution_count": 10,
   "metadata": {},
   "outputs": [],
   "source": [
    "def mult_all(arr):\n",
    "    productorio = 1\n",
    "    for p in arr:\n",
    "        productorio *= p\n",
    "    return productorio"
   ]
  },
  {
   "cell_type": "code",
   "execution_count": 11,
   "metadata": {},
   "outputs": [
    {
     "name": "stderr",
     "output_type": "stream",
     "text": [
      "....................................................................................................\n",
      "----------------------------------------------------------------------\n",
      "Ran 100 tests in 0.175s\n",
      "\n",
      "OK\n"
     ]
    }
   ],
   "source": [
    "# This will test your function \n",
    "test_mult(mult_all)"
   ]
  },
  {
   "cell_type": "markdown",
   "metadata": {},
   "source": [
    "## 5. Now combine those two ideas and write a function that receives a list and either \"+\" or \"*\" and outputs acordingly"
   ]
  },
  {
   "cell_type": "code",
   "execution_count": 12,
   "metadata": {},
   "outputs": [],
   "source": [
    "def oper_all(arr, oper):\n",
    "    \n",
    "    if oper == '+':\n",
    "        return sum_all(arr)\n",
    "    \n",
    "    elif oper == '*':\n",
    "        return mult_all(arr)\n",
    "    \n",
    "    else:\n",
    "        print (\"El valor de la operación no es válido\")\n",
    "        return None\n",
    "        "
   ]
  },
  {
   "cell_type": "markdown",
   "metadata": {},
   "source": [
    "arr = [1,2,3,4,5,6,7,8]\n",
    "\n",
    "print (oper_all (arr, '*'))\n",
    "print (oper_all (arr, '+'))\n",
    "print (oper_all (arr, 'f'))"
   ]
  },
  {
   "cell_type": "code",
   "execution_count": 13,
   "metadata": {},
   "outputs": [
    {
     "name": "stderr",
     "output_type": "stream",
     "text": [
      "....................................................................................................\n",
      "----------------------------------------------------------------------\n",
      "Ran 100 tests in 0.238s\n",
      "\n",
      "OK\n"
     ]
    }
   ],
   "source": [
    "# This will test your function \n",
    "test_operations(oper_all)"
   ]
  },
  {
   "cell_type": "markdown",
   "metadata": {},
   "source": [
    "## 6. Write a function that returns the factorial of a number."
   ]
  },
  {
   "cell_type": "code",
   "execution_count": 14,
   "metadata": {},
   "outputs": [],
   "source": [
    "def factorial(n):\n",
    "    factor = n\n",
    "    for veces in range (2, n):\n",
    "        #print (veces)\n",
    "        factor *= veces\n",
    "    return factor"
   ]
  },
  {
   "cell_type": "markdown",
   "metadata": {},
   "source": [
    "print (factorial (59))"
   ]
  },
  {
   "cell_type": "code",
   "execution_count": 15,
   "metadata": {},
   "outputs": [
    {
     "name": "stderr",
     "output_type": "stream",
     "text": [
      "....................................................................................................\n",
      "----------------------------------------------------------------------\n",
      "Ran 100 tests in 0.175s\n",
      "\n",
      "OK\n"
     ]
    }
   ],
   "source": [
    "# This will test your function \n",
    "test_factorial(factorial)"
   ]
  },
  {
   "cell_type": "markdown",
   "metadata": {},
   "source": [
    "## 7. Write a function that takes a list and returns a list of the unique values.\n",
    "\n",
    "`NOTE: You cannot use set. 🤔`"
   ]
  },
  {
   "cell_type": "code",
   "execution_count": 72,
   "metadata": {},
   "outputs": [],
   "source": [
    "def unique(arr):\n",
    "    lista_unica = []\n",
    "    for elemento in arr:\n",
    "        if elemento not in lista_unica:\n",
    "            lista_unica.append(elemento)\n",
    "    return lista_unica"
   ]
  },
  {
   "cell_type": "markdown",
   "metadata": {},
   "source": [
    "lista_bonita = [1, 2, 3, 4, 2, 1, 6, 8]\n",
    "\n",
    "print (unique(lista_bonita))\n",
    "print (type(unique(lista_bonita)))"
   ]
  },
  {
   "cell_type": "code",
   "execution_count": 73,
   "metadata": {},
   "outputs": [
    {
     "name": "stderr",
     "output_type": "stream",
     "text": [
      "....................................................................................................\n",
      "----------------------------------------------------------------------\n",
      "Ran 100 tests in 0.372s\n",
      "\n",
      "OK\n"
     ]
    }
   ],
   "source": [
    "# This will test your function \n",
    "test_unique(unique)"
   ]
  },
  {
   "cell_type": "markdown",
   "metadata": {},
   "source": [
    "## 8. Write a function that returns the mode of a list, i.e.: the element that appears the most times.\n",
    "`NOTE: You should not use count... 🧐`"
   ]
  },
  {
   "cell_type": "code",
   "execution_count": 18,
   "metadata": {},
   "outputs": [],
   "source": [
    "def mode_counter(arr):\n",
    "    contador = {}\n",
    "    for element in arr:\n",
    "        key = element\n",
    "        valor = 0\n",
    "        for element in arr:\n",
    "            if key == element:\n",
    "                valor += 1\n",
    "        contador[key] = valor\n",
    "    \n",
    "    valor = 0\n",
    "    \n",
    "    for clave, value in contador.items():\n",
    "        #print (clave)\n",
    "        if value > valor:\n",
    "            valor = value\n",
    "            respuesta = clave\n",
    "            #print (f'la clave es {clave}, su valor es {value}, el valor más alto hasta ahora es {valor} la respuesta es {respuesta}')\n",
    "            \n",
    "    return respuesta"
   ]
  },
  {
   "cell_type": "markdown",
   "metadata": {},
   "source": [
    "prueba_chunga = [\"pepito\" , 2, 3, 4, \"pepito\", 2, 3, \"pepito\", 2, \"pepito\"]\n",
    "\n",
    "print (mode_counter(prueba_chunga))"
   ]
  },
  {
   "cell_type": "code",
   "execution_count": 21,
   "metadata": {},
   "outputs": [
    {
     "name": "stderr",
     "output_type": "stream",
     "text": [
      "....................................................................................................\n",
      "----------------------------------------------------------------------\n",
      "Ran 100 tests in 0.766s\n",
      "\n",
      "OK\n"
     ]
    }
   ],
   "source": [
    "# This will test your function \n",
    "test_mode(mode_counter)"
   ]
  },
  {
   "cell_type": "markdown",
   "metadata": {},
   "source": [
    "## 9. Write a function that calculates the standard deviation of a list.\n",
    "`NOTE: Do not use any libraries or already built functions. 😉`"
   ]
  },
  {
   "cell_type": "code",
   "execution_count": 34,
   "metadata": {},
   "outputs": [],
   "source": [
    "\n",
    "\n",
    "from statistics import stdev\n",
    "\n",
    "def st_dev(arr):\n",
    "    suma_valores = sum_all(arr)\n",
    "    \n",
    "    cantidad_valores = 0\n",
    "    \n",
    "    for i in arr:\n",
    "        cantidad_valores += 1\n",
    "        \n",
    "    media = suma_valores/cantidad_valores\n",
    "    \n",
    "    lista_cuadrados = []\n",
    "    \n",
    "    for numero in arr:\n",
    "        lista_cuadrados.append((numero-media)**2)\n",
    "        \n",
    "    suma_cuadrados = sum_all(lista_cuadrados)\n",
    "    \n",
    "    varianza = suma_cuadrados/(cantidad_valores -1)\n",
    "    \n",
    "    raiz_varianza = varianza ** (1/2)\n",
    "    \n",
    "    return raiz_varianza\n",
    "    \n",
    "    #print ('que pasa aqui?suma total:',suma_valores, '  len:',cantidad_valores, '  media:',media, '\\ncuadrados:', lista_cuadrados, '\\nsuma de los cuadrados:', suma_cuadrados, '\\nvarianza:', varianza, '\\ndesviación estándar:', raiz_varianza)"
   ]
  },
  {
   "cell_type": "code",
   "execution_count": 31,
   "metadata": {},
   "outputs": [
    {
     "data": {
      "text/plain": [
       "8.645808232895291"
      ]
     },
     "execution_count": 31,
     "metadata": {},
     "output_type": "execute_result"
    }
   ],
   "source": [
    "prueba_235866997 = [18, 22, 4, 2]\n",
    "st_dev(prueba_235866997)"
   ]
  },
  {
   "cell_type": "code",
   "execution_count": 35,
   "metadata": {
    "scrolled": false
   },
   "outputs": [
    {
     "name": "stderr",
     "output_type": "stream",
     "text": [
      "....................................................................................................\n",
      "----------------------------------------------------------------------\n",
      "Ran 100 tests in 0.228s\n",
      "\n",
      "OK\n"
     ]
    }
   ],
   "source": [
    "# This will test your function \n",
    "test_stdev(st_dev)"
   ]
  },
  {
   "cell_type": "markdown",
   "metadata": {},
   "source": [
    "## 10. Write a function to check if a string is a pangram, i.e.: if it contains all the letters of the alphabet at least once. Mind that the strings may contain characters that are not letters."
   ]
  },
  {
   "cell_type": "code",
   "execution_count": 75,
   "metadata": {},
   "outputs": [],
   "source": [
    "def pangram(string):\n",
    "    #alfabeto_spain =['a','b','c','d','e','f','g','h','i','j','k','l','m','n','ñ','o','p','q','r','s','t','u','v','w','x','y','z']\n",
    "    alfabeto =['a', 'b', 'c', 'd', 'e', 'f', 'g', 'h', 'i', 'j', 'k', 'l', 'm', 'n', 'o', 'p', 'q', 'r', 's', 't', 'u', 'v', 'w', 'x', 'y', 'z']\n",
    "    alfabeto_copia =alfabeto\n",
    "    reducida = unique(string)\n",
    "    #print (alfabeto_copia,'\\n', reducida)\n",
    "    \n",
    "    for letra in reducida:\n",
    "        for letra_copia in alfabeto_copia:\n",
    "            if letra.lower() == letra_copia:\n",
    "                alfabeto_copia.remove(letra.lower())\n",
    "                #print (f'{letra}\\n{alfabeto_copia}\\n')\n",
    "                break\n",
    "            #print (1)\n",
    "    #print (reducida)\n",
    "    #print(alfabeto_copia)\n",
    "    conteo = 0\n",
    "    for i in alfabeto_copia:\n",
    "        conteo += 1\n",
    "    \n",
    "    if conteo == 0:\n",
    "        return True\n",
    "    else:\n",
    "        return False"
   ]
  },
  {
   "cell_type": "code",
   "execution_count": 76,
   "metadata": {},
   "outputs": [
    {
     "data": {
      "text/plain": [
       "True"
      ]
     },
     "execution_count": 76,
     "metadata": {},
     "output_type": "execute_result"
    }
   ],
   "source": [
    "pangram('Fabio me exige, sin tapujos, que añada cerveza al whisky')"
   ]
  },
  {
   "cell_type": "code",
   "execution_count": 77,
   "metadata": {},
   "outputs": [
    {
     "name": "stderr",
     "output_type": "stream",
     "text": [
      "..............................\n",
      "----------------------------------------------------------------------\n",
      "Ran 30 tests in 0.042s\n",
      "\n",
      "OK\n"
     ]
    }
   ],
   "source": [
    "# This will test your function \n",
    "test_pangram(pangram)"
   ]
  },
  {
   "cell_type": "markdown",
   "metadata": {},
   "source": [
    "## 11. Write a function that receives a string of comma separated words and returns a string of comma separated words sorted alphabetically.\n",
    "\n",
    "`NOTE: You may use sorted but not split and definitely no join! 🤪`"
   ]
  },
  {
   "cell_type": "code",
   "execution_count": 253,
   "metadata": {},
   "outputs": [],
   "source": [
    "def sort_alpha(string):\n",
    "    \n",
    "    string += ','\n",
    "    lista_palabras = []\n",
    "    palabra_chachi = ''\n",
    "    string_02 = ''\n",
    "    \n",
    "    #print (string)\n",
    "    for principio in string:\n",
    "        if principio == ',':\n",
    "            string = string[1:-1]\n",
    "        else:\n",
    "            break\n",
    "    #print (string)\n",
    "    \n",
    "    for espacio in string:\n",
    "        if espacio != ' ':\n",
    "            string_02 += espacio\n",
    "    \n",
    "    for letra in string_02:\n",
    "        \n",
    "        if letra != ',':\n",
    "            palabra_chachi += letra\n",
    "\n",
    "        else:\n",
    "            lista_palabras.append(palabra_chachi)\n",
    "            palabra_chachi = ''\n",
    "    \n",
    "    limpiando = []\n",
    "    \n",
    "    for elemento in lista_palabras:\n",
    "        if elemento != '':\n",
    "            limpiando.append(elemento)\n",
    "    \n",
    "    \n",
    "    limpiando.sort(key = str.lower)\n",
    "    \n",
    "    #print (limpiando)\n",
    "    \n",
    "    respuesta = ''\n",
    "    \n",
    "    for i in limpiando:\n",
    "        respuesta += i + ','\n",
    "        \n",
    "    respuesta = respuesta [0:-1]\n",
    "    \n",
    "    return respuesta"
   ]
  },
  {
   "cell_type": "markdown",
   "metadata": {},
   "source": [
    "def sort_alpha(string):\n",
    "    lista_split = string.split(sep = ',')\n",
    "    print (lista_split)\n",
    "    lista_orden = sorted(lista_split)\n",
    "    print (lista_orden)\n",
    "    palabra_final = ''\n",
    "    for elemento in lista_orden:\n",
    "        palabra_final +=elemento\n",
    "        palabra_final +=','\n",
    "    print (palabra_final)\n",
    "    return palabra_final\n"
   ]
  },
  {
   "cell_type": "code",
   "execution_count": 254,
   "metadata": {},
   "outputs": [
    {
     "data": {
      "text/plain": [
       "'evnadfuug,hjvnnr,rfddl,upkwka,vtxzurt'"
      ]
     },
     "execution_count": 254,
     "metadata": {},
     "output_type": "execute_result"
    }
   ],
   "source": [
    "sort_alpha('evnadfuug,hjvnnr,rfddl,upkwka,vtxzurt')"
   ]
  },
  {
   "cell_type": "code",
   "execution_count": 255,
   "metadata": {},
   "outputs": [
    {
     "name": "stderr",
     "output_type": "stream",
     "text": [
      "....................................................................................................\n",
      "----------------------------------------------------------------------\n",
      "Ran 100 tests in 0.193s\n",
      "\n",
      "OK\n"
     ]
    }
   ],
   "source": [
    "# This will test your function \n",
    "test_alpha(sort_alpha)"
   ]
  },
  {
   "cell_type": "markdown",
   "metadata": {},
   "source": [
    "## 12. Write a function to check if a given password is strong (at least 8 characters, at least one lower case, at least one upper case, at least one number and at least one special character). It should output True if strong and False if not.\n",
    "`Valid special characters: # @ ! $ % & ( ) ^ * [ ] { }`"
   ]
  },
  {
   "cell_type": "code",
   "execution_count": 265,
   "metadata": {},
   "outputs": [
    {
     "data": {
      "text/plain": [
       "False"
      ]
     },
     "execution_count": 265,
     "metadata": {},
     "output_type": "execute_result"
    }
   ],
   "source": [
    "def check_pass(string):\n",
    "    especiales = ['#', '@', '!', '$', '%', '&', '(', ')', '^', '*', '[', ']', '{', '}'] # Como Ralph!!!!! 🦄🦄\n",
    "    numericos = ['0', '1', '2', '3', '4', '5', '6', '7', '8', '9']\n",
    "    \n",
    "    tiene_especiales = False\n",
    "    tiene_mayusculas = False\n",
    "    tiene_minusculas = False\n",
    "    tiene_longintud = False\n",
    "    tiene_numericos = False\n",
    "    \n",
    "    contador = 0\n",
    "    \n",
    "    for long in string:\n",
    "        contador += 1\n",
    "        \n",
    "    if contador >= 8:\n",
    "        tiene_longintud = True\n",
    "        \n",
    "    for caracter in string:\n",
    "        if caracter in especiales:\n",
    "            tiene_especiales = True\n",
    "            \n",
    "    for caracter in string:\n",
    "        if caracter in numericos:\n",
    "            tiene_numericos = True\n",
    "    \n",
    "    if string.lower() == string:\n",
    "        pass\n",
    "    else:\n",
    "        tiene_mayusculas = True\n",
    "        \n",
    "    \n",
    "    if string.upper() == string:\n",
    "        pass\n",
    "    else:\n",
    "        tiene_minusculas = True\n",
    "        \n",
    "    return tiene_especiales and tiene_mayusculas and tiene_minusculas and tiene_especiales and tiene_numericos\n",
    "\n",
    "check_pass('#')"
   ]
  },
  {
   "cell_type": "code",
   "execution_count": 266,
   "metadata": {},
   "outputs": [
    {
     "name": "stderr",
     "output_type": "stream",
     "text": [
      "....................................................................................................\n",
      "----------------------------------------------------------------------\n",
      "Ran 100 tests in 0.092s\n",
      "\n",
      "OK\n"
     ]
    }
   ],
   "source": [
    "# This will test your function \n",
    "test_pass(check_pass)"
   ]
  },
  {
   "cell_type": "raw",
   "metadata": {},
   "source": [
    "# ______________________$$$$$$$$                                          QUIERO UNA CHUCHEÍA GRANDE 🤣🤣🤣\n",
    "_______________$$$$$$$________$$$$$$$$$\n",
    "_____________$$________________________$$$$\n",
    "____________$$_____________________________$$\n",
    "___________$__________________________________$$\n",
    "___________$$___________________________________$$\n",
    "__________$$__$$______________________$$__________$$\n",
    "________$$__$$___$$$$_________$$$$____$$__________$$$$\n",
    "______$$___$$__$$$$__$$_____$$$$__$$_$$_____________$$$\n",
    "______$$___$$____$$$$_________$$$$___$$_______________$$\n",
    "______$$___$$________________________$$_______________$$\n",
    "______$$____$$_______________________$$_____________$$\n",
    "________$$__$$____$$$$$$_____________$$___________$$$\n",
    "________$$__$$__$$______$$___________$$_________$$\n",
    "________$$__$$__$$______$$___________$$_______$$\n",
    "__________$$$$____$$$$$$_____________$$$$____$$$$\n",
    "__________$$$$_____________________$$__$$____$$$\n",
    "___________$$_$$$$$$$$$$$$_____$$$$______$$$$_$$\n",
    "_____________$$___$$______$$$$$_______________$$\n",
    "_____________$$_____$$$$$$$____________________$$\n",
    "_____________$$________________________________$$\n",
    "____________$$_________________________________$$\n",
    "____________$$_________________________________$$\n",
    "____________$$___________________________________$\n",
    "____________$$___________________________________$$\n",
    "__________$$_________________________$$___________$\n",
    "__________$$__________$$___________$$_____________$$\n",
    "________$$__$$________$$_________$$_______________$$\n",
    "______$$____$$__________$$_______$$_______________$$\n",
    "______$$____$$____________$$___$$_________________$$\n",
    "____$$______$$_____________$$_$$_______$$_________$$\n",
    "____$$______$$________$$____$$$________$$_________$$\n",
    "____$$______$$________$$____$$$_______$$__________$$\n",
    "____$$______$$________$$_______________$$__________$$\n",
    "____$$______$$________$$_______________$$____________$\n",
    "_$$$$_______$$________$$_______________$$____________$$\n",
    "$___$$______$$________$$$$___________$$$$____________$$\n",
    "$___$$______$$________$$__$$_______$$__$$____________$$\n",
    "_$$$$$______$$________$$____$$___$$_____$$___________$$\n",
    "____$$______$$________$$______$$_______$$___________$$\n",
    "____$$______$$________$$_____$$________$$___________$$\n",
    "__$$________$$________$$$$$$$$___$$$$$$__$$_________$$\n",
    "__$$________$$________$$______$$$______$$$$_________$$\n",
    "$$________$$__________$$_________$$$$$$__$$__________$\n",
    "$$______$$__________$$$$$$$$$$$$$$$______$$__________$\n",
    "$$_$$_$$$__________$$_____________$$$$$$$__$$_________$\n",
    "_$$$$$$$___________$$______________________$$________$$\n",
    "_____$$__$$__$$__$$_$______________________$$__________$$\n",
    "______$$$$__$___$__$$______________________$$____________$\n",
    "_______$$___$___$__$________________________$$_$__$$__$$__$\n",
    "_________$$$$$$$$$$__________________________$$_$_$$$$$$$$\n"
   ]
  },
  {
   "cell_type": "code",
   "execution_count": null,
   "metadata": {},
   "outputs": [],
   "source": []
  }
 ],
 "metadata": {
  "kernelspec": {
   "display_name": "Python 3",
   "language": "python",
   "name": "python3"
  },
  "language_info": {
   "codemirror_mode": {
    "name": "ipython",
    "version": 3
   },
   "file_extension": ".py",
   "mimetype": "text/x-python",
   "name": "python",
   "nbconvert_exporter": "python",
   "pygments_lexer": "ipython3",
   "version": "3.8.5"
  }
 },
 "nbformat": 4,
 "nbformat_minor": 4
}

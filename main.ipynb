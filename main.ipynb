{
 "cells": [
  {
   "cell_type": "markdown",
   "metadata": {},
   "source": [
    "# Functions"
   ]
  },
  {
   "cell_type": "markdown",
   "metadata": {},
   "source": [
    "On this lab we will put to practice some of the concepts we have learned on this past few days.\n",
    "\n",
    "`NOTE: On this lab you should try to write all the functions yourself using only the most basic of python syntax and without functions such as len, count, sum, max, min, in, etc. Give it a try. 🧑🏻‍💻👩🏻‍💻`\n",
    "\n",
    "The cell after each exercise contains a few tests to check if your function works as expected."
   ]
  },
  {
   "cell_type": "code",
   "execution_count": 8,
   "metadata": {},
   "outputs": [],
   "source": [
    "from mod.testing import *\n",
    "import unittest"
   ]
  },
  {
   "cell_type": "markdown",
   "metadata": {},
   "source": [
    "## 1. Write a function that returns the greater of two numbers"
   ]
  },
  {
   "cell_type": "code",
   "execution_count": 2,
   "metadata": {},
   "outputs": [],
   "source": [
    "def greater(a,b):\n",
    "    if a>b:\n",
    "        print (f\"El número mayor es {a}\")\n",
    "        return a\n",
    "    elif b>a:\n",
    "        print (f\"El número mayor es {b}\")\n",
    "        return b\n",
    "    else: \n",
    "        print (f\"{a} y {b} son iguales\")\n",
    "        "
   ]
  },
  {
   "cell_type": "code",
   "execution_count": 3,
   "metadata": {},
   "outputs": [
    {
     "name": "stdout",
     "output_type": "stream",
     "text": [
      "El número mayor es 3\n"
     ]
    },
    {
     "data": {
      "text/plain": [
       "3"
      ]
     },
     "execution_count": 3,
     "metadata": {},
     "output_type": "execute_result"
    }
   ],
   "source": [
    "# This will test your function \n",
    "greater( 3,2)"
   ]
  },
  {
   "cell_type": "code",
   "execution_count": 4,
   "metadata": {},
   "outputs": [
    {
     "name": "stderr",
     "output_type": "stream",
     "text": [
      "...................................................................................................."
     ]
    },
    {
     "name": "stdout",
     "output_type": "stream",
     "text": [
      "El número mayor es -555\n",
      "El número mayor es 482\n",
      "El número mayor es 814\n",
      "El número mayor es 580\n",
      "El número mayor es -55\n",
      "El número mayor es -39\n",
      "El número mayor es 838\n",
      "El número mayor es 741\n",
      "El número mayor es 608\n",
      "El número mayor es -346\n",
      "El número mayor es 349\n",
      "El número mayor es 821\n",
      "El número mayor es 276\n",
      "El número mayor es 504\n",
      "El número mayor es 803\n",
      "El número mayor es 598\n",
      "El número mayor es 1\n",
      "El número mayor es 90\n",
      "El número mayor es 649\n",
      "El número mayor es -227\n",
      "El número mayor es 599\n",
      "El número mayor es -529\n",
      "El número mayor es -777\n",
      "El número mayor es 166\n",
      "El número mayor es 671\n",
      "El número mayor es 986\n",
      "El número mayor es -318\n",
      "El número mayor es -22\n",
      "El número mayor es 101\n",
      "El número mayor es 460\n",
      "El número mayor es 853\n",
      "El número mayor es -589\n",
      "El número mayor es 257\n",
      "El número mayor es 655\n",
      "El número mayor es 769\n",
      "El número mayor es 681\n",
      "El número mayor es 888\n",
      "El número mayor es 585\n",
      "El número mayor es 929\n",
      "El número mayor es 167\n",
      "El número mayor es 613\n",
      "El número mayor es -276\n",
      "El número mayor es 281\n",
      "El número mayor es 293\n",
      "El número mayor es 653\n",
      "El número mayor es 757\n",
      "El número mayor es -189\n",
      "El número mayor es -482\n",
      "El número mayor es 814\n",
      "El número mayor es 804\n",
      "El número mayor es 332\n",
      "El número mayor es 765\n",
      "El número mayor es 769\n",
      "El número mayor es 692\n",
      "El número mayor es 420\n",
      "El número mayor es -421\n",
      "El número mayor es 652\n",
      "El número mayor es -331\n",
      "El número mayor es 922\n",
      "El número mayor es -143\n",
      "El número mayor es -447\n",
      "El número mayor es 303\n",
      "El número mayor es 956\n",
      "El número mayor es -279\n",
      "El número mayor es 823\n",
      "El número mayor es -483\n",
      "El número mayor es 484\n",
      "El número mayor es 413\n",
      "El número mayor es 99\n",
      "El número mayor es 527\n",
      "El número mayor es 417\n",
      "El número mayor es -7\n",
      "El número mayor es 780\n",
      "El número mayor es 945\n",
      "El número mayor es 291\n",
      "El número mayor es -829\n",
      "El número mayor es 968\n",
      "El número mayor es -216\n",
      "El número mayor es -912\n",
      "El número mayor es -6\n",
      "El número mayor es 341\n",
      "El número mayor es 597\n",
      "El número mayor es 783\n",
      "El número mayor es 912\n",
      "El número mayor es 608\n",
      "El número mayor es 729\n",
      "El número mayor es -543\n",
      "El número mayor es 44\n",
      "El número mayor es 950\n",
      "El número mayor es 183\n",
      "El número mayor es 897\n",
      "El número mayor es 459\n",
      "El número mayor es -631\n",
      "El número mayor es 66\n",
      "El número mayor es -94\n",
      "El número mayor es 413\n",
      "El número mayor es -772\n",
      "El número mayor es 3\n",
      "El número mayor es -298\n",
      "El número mayor es 774\n"
     ]
    },
    {
     "name": "stderr",
     "output_type": "stream",
     "text": [
      "\n",
      "----------------------------------------------------------------------\n",
      "Ran 100 tests in 0.071s\n",
      "\n",
      "OK\n"
     ]
    }
   ],
   "source": [
    "test_greater(greater)"
   ]
  },
  {
   "cell_type": "markdown",
   "metadata": {},
   "source": [
    "## 2. Now write a function that returns the largest element on a list"
   ]
  },
  {
   "cell_type": "code",
   "execution_count": 178,
   "metadata": {},
   "outputs": [],
   "source": [
    "def greatest(arr):\n",
    "    mayor=0\n",
    "    for n in arr:\n",
    "        if n>mayor:\n",
    "                mayor=n\n",
    "    return mayor\n",
    "      "
   ]
  },
  {
   "cell_type": "code",
   "execution_count": 179,
   "metadata": {},
   "outputs": [
    {
     "name": "stderr",
     "output_type": "stream",
     "text": [
      "....................................................................................................\n",
      "----------------------------------------------------------------------\n",
      "Ran 100 tests in 0.061s\n",
      "\n",
      "OK\n"
     ]
    }
   ],
   "source": [
    "test_greatest(greatest)"
   ]
  },
  {
   "cell_type": "markdown",
   "metadata": {},
   "source": [
    "## 3. Write a function that sums all the elements on a list"
   ]
  },
  {
   "cell_type": "code",
   "execution_count": 183,
   "metadata": {},
   "outputs": [],
   "source": [
    "def sum_all(arr):\n",
    "    suma=0\n",
    "    for n in arr:\n",
    "        suma+=n\n",
    "    return suma"
   ]
  },
  {
   "cell_type": "code",
   "execution_count": 184,
   "metadata": {},
   "outputs": [
    {
     "name": "stderr",
     "output_type": "stream",
     "text": [
      "....................................................................................................\n",
      "----------------------------------------------------------------------\n",
      "Ran 100 tests in 0.058s\n",
      "\n",
      "OK\n"
     ]
    }
   ],
   "source": [
    "test_sum(sum_all)"
   ]
  },
  {
   "cell_type": "markdown",
   "metadata": {},
   "source": [
    "## 4. Write another function that multiplies all the elements on a list"
   ]
  },
  {
   "cell_type": "code",
   "execution_count": 190,
   "metadata": {},
   "outputs": [],
   "source": [
    "def mult_all(arr):\n",
    "    multi=1\n",
    "    for n in arr:\n",
    "        multi*=n\n",
    "    return multi"
   ]
  },
  {
   "cell_type": "code",
   "execution_count": 191,
   "metadata": {},
   "outputs": [
    {
     "name": "stderr",
     "output_type": "stream",
     "text": [
      "....................................................................................................\n",
      "----------------------------------------------------------------------\n",
      "Ran 100 tests in 0.062s\n",
      "\n",
      "OK\n"
     ]
    }
   ],
   "source": [
    "test_mult(mult_all)"
   ]
  },
  {
   "cell_type": "markdown",
   "metadata": {},
   "source": [
    "## 5. Now combine those two ideas and write a function that receives a list and either \"+\" or \"*\" and outputs acordingly"
   ]
  },
  {
   "cell_type": "code",
   "execution_count": 20,
   "metadata": {},
   "outputs": [],
   "source": [
    "def oper_all(arr, oper):\n",
    "    if oper ==\"+\":\n",
    "        suma=0\n",
    "        for n in arr:\n",
    "            suma+=n\n",
    "        return suma \n",
    "    elif oper==\"*\":\n",
    "        multi=1\n",
    "        for n in arr:\n",
    "            multi*=n\n",
    "        return multi\n",
    "        "
   ]
  },
  {
   "cell_type": "code",
   "execution_count": 22,
   "metadata": {},
   "outputs": [
    {
     "name": "stderr",
     "output_type": "stream",
     "text": [
      "....................................................................................................\n",
      "----------------------------------------------------------------------\n",
      "Ran 100 tests in 0.046s\n",
      "\n",
      "OK\n"
     ]
    }
   ],
   "source": [
    "test_operations(oper_all)"
   ]
  },
  {
   "cell_type": "markdown",
   "metadata": {},
   "source": [
    "## 6. Write a function that returns the factorial of a number."
   ]
  },
  {
   "cell_type": "code",
   "execution_count": 2,
   "metadata": {},
   "outputs": [],
   "source": [
    "def factorial(n):\n",
    "    fact=1\n",
    "    mult=2\n",
    "    while mult<=n:\n",
    "        fact*=mult\n",
    "        mult+=1\n",
    "        return fact"
   ]
  },
  {
   "cell_type": "code",
   "execution_count": 6,
   "metadata": {},
   "outputs": [
    {
     "name": "stderr",
     "output_type": "stream",
     "text": [
      "....................................................................................................\n",
      "----------------------------------------------------------------------\n",
      "Ran 100 tests in 0.088s\n",
      "\n",
      "OK\n"
     ]
    }
   ],
   "source": [
    "# This will test your function \n",
    "test_factorial(factorial)"
   ]
  },
  {
   "cell_type": "markdown",
   "metadata": {},
   "source": [
    "## 7. Write a function that takes a list and returns a list of the unique values.\n",
    "\n",
    "`NOTE: You cannot use set. 🤔`"
   ]
  },
  {
   "cell_type": "code",
   "execution_count": 23,
   "metadata": {},
   "outputs": [],
   "source": [
    "def unique(arr):\n",
    "    unicos=[]\n",
    "    for n in arr:\n",
    "        if n not in unicos:\n",
    "            unicos.append(n)\n",
    "    return unicos"
   ]
  },
  {
   "cell_type": "code",
   "execution_count": 192,
   "metadata": {},
   "outputs": [
    {
     "ename": "NameError",
     "evalue": "name 'unique' is not defined",
     "output_type": "error",
     "traceback": [
      "\u001b[1;31m---------------------------------------------------------------------------\u001b[0m",
      "\u001b[1;31mNameError\u001b[0m                                 Traceback (most recent call last)",
      "\u001b[1;32m<ipython-input-192-c90457086e45>\u001b[0m in \u001b[0;36m<module>\u001b[1;34m\u001b[0m\n\u001b[0;32m      1\u001b[0m \u001b[1;31m# This will test your function\u001b[0m\u001b[1;33m\u001b[0m\u001b[1;33m\u001b[0m\u001b[1;33m\u001b[0m\u001b[0m\n\u001b[1;32m----> 2\u001b[1;33m \u001b[0mtest_unique\u001b[0m\u001b[1;33m(\u001b[0m\u001b[0munique\u001b[0m\u001b[1;33m)\u001b[0m\u001b[1;33m\u001b[0m\u001b[1;33m\u001b[0m\u001b[0m\n\u001b[0m",
      "\u001b[1;31mNameError\u001b[0m: name 'unique' is not defined"
     ]
    }
   ],
   "source": [
    "# This will test your function \n",
    "test_unique(unique)"
   ]
  },
  {
   "cell_type": "markdown",
   "metadata": {},
   "source": [
    "## 8. Write a function that returns the mode of a list, i.e.: the element that appears the most times.\n",
    "`NOTE: You should not use count... 🧐`"
   ]
  },
  {
   "cell_type": "code",
   "execution_count": 170,
   "metadata": {},
   "outputs": [],
   "source": [
    "def mode_counter(arr):\n",
    "    cont= {n:0 for n in arr}\n",
    "    for n in arr:\n",
    "        cont[n]+=1\n",
    "        moda=0\n",
    "    for n in arr:\n",
    "        if cont[n]>moda:\n",
    "            moda=n\n",
    "    return moda\n",
    "    "
   ]
  },
  {
   "cell_type": "code",
   "execution_count": 171,
   "metadata": {},
   "outputs": [
    {
     "name": "stderr",
     "output_type": "stream",
     "text": [
      "....................................................................................................\n",
      "----------------------------------------------------------------------\n",
      "Ran 100 tests in 0.070s\n",
      "\n",
      "OK\n"
     ]
    }
   ],
   "source": [
    "# This will test your function \n",
    "test_mode(mode_counter)"
   ]
  },
  {
   "cell_type": "markdown",
   "metadata": {},
   "source": [
    "## 9. Write a function that calculates the standard deviation of a list.\n",
    "`NOTE: Do not use any libraries or already built functions. 😉`"
   ]
  },
  {
   "cell_type": "code",
   "execution_count": null,
   "metadata": {},
   "outputs": [],
   "source": [
    "#he copiado esto del prework para ir paso a paso\n",
    "    \n",
    "Step 1: Compute the mean ok\n",
    "Step 2: Subtract the mean from each individual observation. This is called deviation ok\n",
    "Step 3: Take the square of these deviations. These are called squared deviations ok\n",
    "Step 4: Add all the squared deviations. This is called sum of squares ok\n",
    "Step 5: Divide the sum of squares by (n-1) where `n` is the number of observations. This is called variance ok\n",
    "Step 6: Take the square root of variance. This is called standard deviation "
   ]
  },
  {
   "cell_type": "code",
   "execution_count": 194,
   "metadata": {},
   "outputs": [],
   "source": [
    "from statistics import stdev\n",
    "def st_dev(arr):\n",
    "    suma_elementos=0\n",
    "    for n in arr:\n",
    "        suma_elementos+=n\n",
    "    \n",
    "    total_elementos=0\n",
    "    for n in arr:\n",
    "        total_elementos+=1\n",
    "    \n",
    "    media=suma_elementos/total_elementos\n",
    "    \n",
    "    \n",
    "    desviacion=[]\n",
    "    for n in arr:\n",
    "        n=n-media\n",
    "        desviacion.append(n)\n",
    "    \n",
    "    desviacion_cuadrada=[]\n",
    "    for n in desviacion:\n",
    "        n=n*n\n",
    "        desviacion_cuadrada.append(n)\n",
    "    \n",
    "    suma_de_cuadrados=0\n",
    "    for n in desviacion_cuadrada:\n",
    "        suma_de_cuadrados+=n\n",
    "   \n",
    "    varianza=suma_de_cuadrados/(total_elementos-1)\n",
    "    \n",
    "    desviacion_tipica=varianza**(1/2)\n",
    "    \n",
    "    return desviacion_tipica\n",
    "        \n",
    "    \n",
    "       \n",
    "        \n",
    "        \n",
    "    "
   ]
  },
  {
   "cell_type": "code",
   "execution_count": 195,
   "metadata": {},
   "outputs": [
    {
     "name": "stderr",
     "output_type": "stream",
     "text": [
      "....................................................................................................\n",
      "----------------------------------------------------------------------\n",
      "Ran 100 tests in 0.064s\n",
      "\n",
      "OK\n"
     ]
    }
   ],
   "source": [
    "# This will test your function \n",
    "test_stdev(st_dev)"
   ]
  },
  {
   "cell_type": "markdown",
   "metadata": {},
   "source": [
    "## 10. Write a function to check if a string is a pangram, i.e.: if it contains all the letters of the alphabet at least once. Mind that the strings may contain characters that are not letters."
   ]
  },
  {
   "cell_type": "code",
   "execution_count": 59,
   "metadata": {},
   "outputs": [],
   "source": [
    "def pangram(string):\n",
    "    alfabeto=\"abcdefghijklmnopqrstuvwxyz\"\n",
    "    for letra in alfabeto:\n",
    "        if letra not in string.lower():\n",
    "            return False\n",
    "    return True\n",
    "        "
   ]
  },
  {
   "cell_type": "code",
   "execution_count": 61,
   "metadata": {},
   "outputs": [
    {
     "name": "stderr",
     "output_type": "stream",
     "text": [
      "..............................\n",
      "----------------------------------------------------------------------\n",
      "Ran 30 tests in 0.022s\n",
      "\n",
      "OK\n"
     ]
    }
   ],
   "source": [
    "# This will test your function \n",
    "test_pangram(pangram)"
   ]
  },
  {
   "cell_type": "markdown",
   "metadata": {},
   "source": [
    "## 11. Write a function that receives a string of comma separated words and returns a string of comma separated words sorted alphabetically.\n",
    "\n",
    "`NOTE: You may use sorted but not split and definitely no join! 🤪`"
   ]
  },
  {
   "cell_type": "code",
   "execution_count": 172,
   "metadata": {},
   "outputs": [],
   "source": [
    "def sort_alpha(string):#soy incapaz de hacerla sin split y join... :(\n",
    "    lista=string.split(\",\")\n",
    "    lista.sort()\n",
    "    unida=\",\".join(lista)\n",
    "    return unida"
   ]
  },
  {
   "cell_type": "code",
   "execution_count": 173,
   "metadata": {},
   "outputs": [
    {
     "name": "stderr",
     "output_type": "stream",
     "text": [
      "....................................................................................................\n",
      "----------------------------------------------------------------------\n",
      "Ran 100 tests in 0.079s\n",
      "\n",
      "OK\n"
     ]
    }
   ],
   "source": [
    "# This will test your function \n",
    "test_alpha(sort_alpha)"
   ]
  },
  {
   "cell_type": "markdown",
   "metadata": {},
   "source": [
    "## 12. Write a function to check if a given password is strong (at least 8 characters, at least one lower case, at least one upper case, at least one number and at least one special character). It should output True if strong and False if not.\n",
    "`Valid special characters: # @ ! $ % & ( ) ^ * [ ] { }`"
   ]
  },
  {
   "cell_type": "code",
   "execution_count": 158,
   "metadata": {},
   "outputs": [],
   "source": [
    "def check_pass(string):\n",
    "    \n",
    "    minuscula=0\n",
    "    mayuscula=0\n",
    "    numero=0\n",
    "    especial=0\n",
    "    tamaño=0\n",
    "    tamaño_minimo=0\n",
    "    resultado=0\n",
    "    for l in string:\n",
    "        if l.islower()==True:\n",
    "            minuscula+=1\n",
    "            resultado+=1\n",
    "            break\n",
    "    for l in string:\n",
    "        if l.isupper()==True:\n",
    "            mayuscula+=1\n",
    "            resultado+=1\n",
    "            break\n",
    "    for l in string:\n",
    "        if l.isdigit()==True:\n",
    "            numero+=1\n",
    "            resultado+=1\n",
    "            break\n",
    "    for l in string:\n",
    "         if l.isalnum()==False:\n",
    "            especial+=1\n",
    "            resultado+=1\n",
    "            break\n",
    "    for letra in string:\n",
    "        tamaño+=1\n",
    "        if tamaño>=8:\n",
    "            tamaño_minimo+=1\n",
    "            resultado+=1\n",
    "            break\n",
    "    if resultado==5:\n",
    "        return True\n",
    "    else:\n",
    "        return False\n",
    "        \n",
    "    "
   ]
  },
  {
   "cell_type": "code",
   "execution_count": 159,
   "metadata": {},
   "outputs": [
    {
     "name": "stderr",
     "output_type": "stream",
     "text": [
      "....................................................................................................\n",
      "----------------------------------------------------------------------\n",
      "Ran 100 tests in 0.045s\n",
      "\n",
      "OK\n"
     ]
    }
   ],
   "source": [
    "# This will test your function \n",
    "test_pass(check_pass)"
   ]
  }
 ],
 "metadata": {
  "kernelspec": {
   "display_name": "Python 3",
   "language": "python",
   "name": "python3"
  },
  "language_info": {
   "codemirror_mode": {
    "name": "ipython",
    "version": 3
   },
   "file_extension": ".py",
   "mimetype": "text/x-python",
   "name": "python",
   "nbconvert_exporter": "python",
   "pygments_lexer": "ipython3",
   "version": "3.8.5"
  }
 },
 "nbformat": 4,
 "nbformat_minor": 4
}

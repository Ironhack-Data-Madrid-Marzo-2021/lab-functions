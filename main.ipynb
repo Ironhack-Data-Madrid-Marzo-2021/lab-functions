{
 "cells": [
  {
   "cell_type": "markdown",
   "metadata": {},
   "source": [
    "# Functions"
   ]
  },
  {
   "cell_type": "markdown",
   "metadata": {},
   "source": [
    "On this lab we will put to practice some of the concepts we have learned on this past few days.\n",
    "\n",
    "`NOTE: On this lab you should try to write all the functions yourself using only the most basic of python syntax and without functions such as len, count, sum, max, min, in, etc. Give it a try. 🧑🏻‍💻👩🏻‍💻`\n",
    "\n",
    "The cell after each exercise contains a few tests to check if your function works as expected."
   ]
  },
  {
   "cell_type": "code",
   "execution_count": 1,
   "metadata": {},
   "outputs": [],
   "source": [
    "from mod.testing import *\n",
    "import unittest #cambio "
   ]
  },
  {
   "cell_type": "markdown",
   "metadata": {},
   "source": [
    "## 1. Write a function that returns the greater of two numbers"
   ]
  },
  {
   "cell_type": "code",
   "execution_count": 2,
   "metadata": {},
   "outputs": [],
   "source": [
    "def greater(a,b):\n",
    "    return a if a >= b else b\n"
   ]
  },
  {
   "cell_type": "code",
   "execution_count": 3,
   "metadata": {},
   "outputs": [
    {
     "name": "stderr",
     "output_type": "stream",
     "text": [
      "....................................................................................................\n",
      "----------------------------------------------------------------------\n",
      "Ran 100 tests in 0.068s\n",
      "\n",
      "OK\n"
     ]
    }
   ],
   "source": [
    "# This will test your function \n",
    "test_greater(greater)"
   ]
  },
  {
   "cell_type": "markdown",
   "metadata": {},
   "source": [
    "## 2. Now write a function that returns the largest element on a list"
   ]
  },
  {
   "cell_type": "code",
   "execution_count": 4,
   "metadata": {},
   "outputs": [],
   "source": [
    "def greatest(arr):\n",
    "    import functools\n",
    "    return functools.reduce(lambda x,y : max(x,y),arr)\n",
    "\n"
   ]
  },
  {
   "cell_type": "code",
   "execution_count": 5,
   "metadata": {},
   "outputs": [
    {
     "name": "stderr",
     "output_type": "stream",
     "text": [
      "....................................................................................................\n",
      "----------------------------------------------------------------------\n",
      "Ran 100 tests in 0.076s\n",
      "\n",
      "OK\n"
     ]
    }
   ],
   "source": [
    "# This will test your function \n",
    "test_greatest(greatest)"
   ]
  },
  {
   "cell_type": "markdown",
   "metadata": {},
   "source": [
    "## 3. Write a function that sums all the elements on a list"
   ]
  },
  {
   "cell_type": "code",
   "execution_count": 6,
   "metadata": {},
   "outputs": [],
   "source": [
    "def sum_all(arr):\n",
    "    import functools\n",
    "    return functools.reduce(lambda x,y : x + y,arr)\n",
    "\n"
   ]
  },
  {
   "cell_type": "code",
   "execution_count": 8,
   "metadata": {},
   "outputs": [
    {
     "name": "stderr",
     "output_type": "stream",
     "text": [
      "....................................................................................................\n",
      "----------------------------------------------------------------------\n",
      "Ran 100 tests in 0.074s\n",
      "\n",
      "OK\n"
     ]
    }
   ],
   "source": [
    "# This will test your function \n",
    "test_sum(sum_all)"
   ]
  },
  {
   "cell_type": "markdown",
   "metadata": {},
   "source": [
    "## 4. Write another function that multiplies all the elements on a list"
   ]
  },
  {
   "cell_type": "code",
   "execution_count": 9,
   "metadata": {},
   "outputs": [],
   "source": [
    "def mult_all(arr):\n",
    "    import functools\n",
    "    return functools.reduce(lambda x,y : x * y,arr)"
   ]
  },
  {
   "cell_type": "code",
   "execution_count": 10,
   "metadata": {},
   "outputs": [
    {
     "name": "stderr",
     "output_type": "stream",
     "text": [
      "....................................................................................................\n",
      "----------------------------------------------------------------------\n",
      "Ran 100 tests in 0.089s\n",
      "\n",
      "OK\n"
     ]
    }
   ],
   "source": [
    "# This will test your function \n",
    "test_mult(mult_all)"
   ]
  },
  {
   "cell_type": "markdown",
   "metadata": {},
   "source": [
    "## 5. Now combine those two ideas and write a function that receives a list and either \"+\" or \"*\" and outputs acordingly"
   ]
  },
  {
   "cell_type": "code",
   "execution_count": 11,
   "metadata": {},
   "outputs": [],
   "source": [
    "def oper_all(arr, oper):\n",
    "    def sum_all(arr):\n",
    "        import functools\n",
    "        return functools.reduce(lambda x,y : x + y,arr)\n",
    "\n",
    "    def mult_all(arr):\n",
    "        import functools\n",
    "        return functools.reduce(lambda x,y : x * y,arr)\n",
    "\n",
    "    if oper=='+':\n",
    "        return sum_all(arr)\n",
    "    elif oper=='*':\n",
    "        return mult_all(arr)\n",
    "    else:\n",
    "        pass #poner error\n",
    "    \n",
    "        \n",
    "        "
   ]
  },
  {
   "cell_type": "code",
   "execution_count": 12,
   "metadata": {},
   "outputs": [
    {
     "name": "stderr",
     "output_type": "stream",
     "text": [
      "....................................................................................................\n",
      "----------------------------------------------------------------------\n",
      "Ran 100 tests in 0.077s\n",
      "\n",
      "OK\n"
     ]
    }
   ],
   "source": [
    "# This will test your function \n",
    "test_operations(oper_all)"
   ]
  },
  {
   "cell_type": "markdown",
   "metadata": {},
   "source": [
    "## 6. Write a function that returns the factorial of a number."
   ]
  },
  {
   "cell_type": "code",
   "execution_count": 13,
   "metadata": {},
   "outputs": [],
   "source": [
    "def factorial(n):\n",
    "    if n==0:\n",
    "        return 1\n",
    "    else:\n",
    "        return n * factorial(n-1)"
   ]
  },
  {
   "cell_type": "code",
   "execution_count": 14,
   "metadata": {},
   "outputs": [
    {
     "name": "stderr",
     "output_type": "stream",
     "text": [
      "....................................................................................................\n",
      "----------------------------------------------------------------------\n",
      "Ran 100 tests in 0.074s\n",
      "\n",
      "OK\n"
     ]
    }
   ],
   "source": [
    "# This will test your function \n",
    "test_factorial(factorial)"
   ]
  },
  {
   "cell_type": "markdown",
   "metadata": {},
   "source": [
    "## 7. Write a function that takes a list and returns a list of the unique values.\n",
    "\n",
    "`NOTE: You cannot use set. 🤔`"
   ]
  },
  {
   "cell_type": "code",
   "execution_count": 15,
   "metadata": {},
   "outputs": [],
   "source": [
    "def esta(lista,elem):\n",
    "    import functools\n",
    "    esta=list(map(lambda x: x in lista,lista)) \n",
    "    return functools.reduce(lambda x , y : (x or y),esta)\n",
    "\n",
    "def unique(lista):\n",
    "    lista_unica=[]\n",
    "    for elemento in lista:\n",
    "        if esta(lista,elemento):\n",
    "            lista_unica.append(elemento)        \n",
    "    return lista_unica"
   ]
  },
  {
   "cell_type": "code",
   "execution_count": 16,
   "metadata": {},
   "outputs": [
    {
     "name": "stderr",
     "output_type": "stream",
     "text": [
      "....................................................................................................\n",
      "----------------------------------------------------------------------\n",
      "Ran 100 tests in 49.971s\n",
      "\n",
      "OK\n"
     ]
    }
   ],
   "source": [
    "# This will test your function \n",
    "test_unique(unique)"
   ]
  },
  {
   "cell_type": "markdown",
   "metadata": {},
   "source": [
    "## 8. Write a function that returns the mode of a list, i.e.: the element that appears the most times.\n",
    "`NOTE: You should not use count... 🧐`"
   ]
  },
  {
   "cell_type": "code",
   "execution_count": 17,
   "metadata": {},
   "outputs": [],
   "source": [
    "def mode_counter(lista):\n",
    "    import functools\n",
    "    frecuencia={elemento:0 for elemento in lista}\n",
    "    \n",
    "    for elemento in lista:\n",
    "        frecuencia[elemento]+=1\n",
    "\n",
    "    return functools.reduce(lambda x,y: x if frecuencia[x] >= frecuencia[y] else y ,frecuencia)"
   ]
  },
  {
   "cell_type": "code",
   "execution_count": 18,
   "metadata": {},
   "outputs": [
    {
     "name": "stderr",
     "output_type": "stream",
     "text": [
      "....................................................................................................\n",
      "----------------------------------------------------------------------\n",
      "Ran 100 tests in 0.073s\n",
      "\n",
      "OK\n"
     ]
    }
   ],
   "source": [
    "# This will test your function \n",
    "test_mode(mode_counter)"
   ]
  },
  {
   "cell_type": "markdown",
   "metadata": {},
   "source": [
    "## 9. Write a function that calculates the standard deviation of a list.\n",
    "`NOTE: Do not use any libraries or already built functions. 😉`"
   ]
  },
  {
   "cell_type": "code",
   "execution_count": 84,
   "metadata": {},
   "outputs": [
    {
     "data": {
      "text/plain": [
       "1.2909944487358056"
      ]
     },
     "execution_count": 84,
     "metadata": {},
     "output_type": "execute_result"
    }
   ],
   "source": [
    "from statistics import stdev\n",
    "import functools\n",
    "\n",
    "def longitud(lista):\n",
    "    i=0\n",
    "    for elemento in lista:\n",
    "        i+=1\n",
    "    return i\n",
    "\n",
    "\n",
    "def restar_media(lista,med):\n",
    "    return list(map(lambda x : x - med,lista))\n",
    "\n",
    "def elevar_cuadrado(lista):\n",
    "    return list(map(lambda x : x ** 2,lista))\n",
    "    \n",
    "def sumar(lista):\n",
    "        return (functools.reduce(lambda x,y:x+y,lista))\n",
    "      \n",
    "\n",
    "def st_dev(lista):\n",
    "    l=longitud(lista)\n",
    "    med=sumar(lista)/l\n",
    "    media_restada=restar_media(lista,med)\n",
    "    elevado_alcuadrado=elevar_cuadrado(media_restada)\n",
    "    varianza=sumar(elevado_alcuadrado)/(l-1)\n",
    "    desv_tip=varianza **(1/2)\n",
    "    return desv_tip\n",
    "a=[5,6,7,8]\n",
    "\n",
    "st_dev(a)\n",
    "import statistics\n",
    "\n",
    "statistics.stdev(a)"
   ]
  },
  {
   "cell_type": "markdown",
   "metadata": {},
   "source": [
    "##### "
   ]
  },
  {
   "cell_type": "code",
   "execution_count": 85,
   "metadata": {},
   "outputs": [
    {
     "name": "stderr",
     "output_type": "stream",
     "text": [
      "....................................................................................................\n",
      "----------------------------------------------------------------------\n",
      "Ran 100 tests in 0.084s\n",
      "\n",
      "OK\n"
     ]
    }
   ],
   "source": [
    "# This will test fyour function \n",
    "test_stdev(st_dev)"
   ]
  },
  {
   "cell_type": "markdown",
   "metadata": {},
   "source": [
    "## 10. Write a function to check if a string is a pangram, i.e.: if it contains all the letters of the alphabet at least once. Mind that the strings may contain characters that are not letters."
   ]
  },
  {
   "cell_type": "code",
   "execution_count": 21,
   "metadata": {},
   "outputs": [
    {
     "data": {
      "text/plain": [
       "True"
      ]
     },
     "execution_count": 21,
     "metadata": {},
     "output_type": "execute_result"
    }
   ],
   "source": [
    "def crea_abc():\n",
    "    return {chr(elemento) for elemento in range(97,123)}\n",
    "\n",
    "def pangram(string):\n",
    "    abc=crea_abc()\n",
    "    for l in string:\n",
    "        if l.lower() in abc:\n",
    "            abc.remove(l.lower())\n",
    "    return abc==set()\n",
    "\n",
    "pangram('abcdefghijklmnopqrstuv*wxyz')"
   ]
  },
  {
   "cell_type": "code",
   "execution_count": 22,
   "metadata": {},
   "outputs": [
    {
     "name": "stderr",
     "output_type": "stream",
     "text": [
      "..............................\n",
      "----------------------------------------------------------------------\n",
      "Ran 30 tests in 0.021s\n",
      "\n",
      "OK\n"
     ]
    }
   ],
   "source": [
    "# This will test your function \n",
    "test_pangram(pangram)"
   ]
  },
  {
   "cell_type": "markdown",
   "metadata": {},
   "source": [
    "## 11. Write a function that receives a string of comma separated words and returns a string of comma separated words sorted alphabetically.\n",
    "\n",
    "`NOTE: You may use sorted but not split and definitely no join! 🤪`"
   ]
  },
  {
   "cell_type": "code",
   "execution_count": 23,
   "metadata": {},
   "outputs": [
    {
     "data": {
      "text/plain": [
       "'adios,hola,zaragoza'"
      ]
     },
     "execution_count": 23,
     "metadata": {},
     "output_type": "execute_result"
    }
   ],
   "source": [
    "def divide(string):\n",
    "    string+=','\n",
    "    palabras_sueltas=list()\n",
    "    palabra=str()\n",
    "    for letra in string:\n",
    "        if letra==',':\n",
    "            palabras_sueltas.append(palabra)\n",
    "            palabra=''\n",
    "         \n",
    "        else:\n",
    "            palabra+=letra\n",
    "    return palabras_sueltas\n",
    "def longitud(lista):\n",
    "    i=0\n",
    "    for elemento in lista:\n",
    "        i+=1\n",
    "    return i\n",
    "\n",
    "def junta_palabras(lista):\n",
    "    cadena=''\n",
    "    l=longitud(lista)\n",
    "    for i,palabra in enumerate(lista):\n",
    "        cadena+=palabra\n",
    "        if l!=i+1:\n",
    "            cadena+=','    \n",
    "    return cadena\n",
    "def sort_alpha(string):\n",
    "    palabras=divide(string)\n",
    "    palabras.sort()\n",
    "    palabras_juntas=junta_palabras(palabras)\n",
    "    return palabras_juntas\n",
    "\n",
    "sort_alpha('hola,adios,zaragoza')"
   ]
  },
  {
   "cell_type": "code",
   "execution_count": 24,
   "metadata": {},
   "outputs": [
    {
     "name": "stderr",
     "output_type": "stream",
     "text": [
      "....................................................................................................\n",
      "----------------------------------------------------------------------\n",
      "Ran 100 tests in 0.090s\n",
      "\n",
      "OK\n"
     ]
    }
   ],
   "source": [
    "# This will test your function \n",
    "test_alpha(sort_alpha)"
   ]
  },
  {
   "cell_type": "markdown",
   "metadata": {},
   "source": [
    "## 12. Write a function to check if a given password is strong (at least 8 characters, at least one lower case, at least one upper case, at least one number and at least one special character). It should output True if strong and False if not.\n",
    "`Valid special characters: # @ ! $ % & ( ) ^ * [ ] { }`"
   ]
  },
  {
   "cell_type": "code",
   "execution_count": 25,
   "metadata": {},
   "outputs": [
    {
     "data": {
      "text/plain": [
       "False"
      ]
     },
     "execution_count": 25,
     "metadata": {},
     "output_type": "execute_result"
    }
   ],
   "source": [
    "\n",
    "def crea_abc():\n",
    "        return {chr(elemento) for elemento in range(97,123)}\n",
    "\n",
    "def crea_ABC():\n",
    "        return {chr(elemento) for elemento in range(65,91)}\n",
    "        \n",
    "def crea_num():\n",
    "        return {chr(elemento) for elemento in range(48,58)}\n",
    "\n",
    "def tiene_una(cadena,conjunto):\n",
    "    import functools\n",
    "    esta=list(map(lambda x: x in conjunto,cadena)) \n",
    "    return functools.reduce(lambda x , y : (x or y),esta)\n",
    "\n",
    "def longitud(lista):\n",
    "    i=0\n",
    "    for elemento in lista:\n",
    "        i+=1\n",
    "    return i\n",
    "\n",
    "def check_pass(strin):\n",
    "   \n",
    "    esp={'{','}','#','@','!','$','%','&','(',')','^','*','[',']'}\n",
    "    abc=crea_abc()\n",
    "    ABC=crea_ABC()\n",
    "    num=crea_num()\n",
    "    \n",
    "    return(tiene_una(strin,esp) and tiene_una(strin,abc) and tiene_una(strin,ABC) and tiene_una(strin,num) and longitud(strin)>=8)\n",
    "    \n",
    "check_pass('hola')"
   ]
  },
  {
   "cell_type": "code",
   "execution_count": 26,
   "metadata": {},
   "outputs": [
    {
     "name": "stderr",
     "output_type": "stream",
     "text": [
      "....................................................................................................\n",
      "----------------------------------------------------------------------\n",
      "Ran 100 tests in 0.074s\n",
      "\n",
      "OK\n"
     ]
    }
   ],
   "source": [
    "# This will test your function \n",
    "test_pass(check_pass)"
   ]
  },
  {
   "cell_type": "code",
   "execution_count": null,
   "metadata": {},
   "outputs": [],
   "source": []
  },
  {
   "cell_type": "code",
   "execution_count": null,
   "metadata": {},
   "outputs": [],
   "source": []
  }
 ],
 "metadata": {
  "kernelspec": {
   "display_name": "Python 3",
   "language": "python",
   "name": "python3"
  },
  "language_info": {
   "codemirror_mode": {
    "name": "ipython",
    "version": 3
   },
   "file_extension": ".py",
   "mimetype": "text/x-python",
   "name": "python",
   "nbconvert_exporter": "python",
   "pygments_lexer": "ipython3",
   "version": "3.8.5"
  }
 },
 "nbformat": 4,
 "nbformat_minor": 4
}

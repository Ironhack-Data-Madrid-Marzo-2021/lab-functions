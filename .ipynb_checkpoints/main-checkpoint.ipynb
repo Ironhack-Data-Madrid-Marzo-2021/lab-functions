{
 "cells": [
  {
   "cell_type": "markdown",
   "metadata": {},
   "source": [
    "# Functions"
   ]
  },
  {
   "cell_type": "markdown",
   "metadata": {},
   "source": [
    "On this lab we will put to practice some of the concepts we have learned on this past few days.\n",
    "\n",
    "`NOTE: On this lab you should try to write all the functions yourself using only the most basic of python syntax and without functions such as len, count, sum, max, min, in, etc. Give it a try. 🧑🏻‍💻👩🏻‍💻`\n",
    "\n",
    "The cell after each exercise contains a few tests to check if your function works as expected."
   ]
  },
  {
   "cell_type": "code",
   "execution_count": 2,
   "metadata": {},
   "outputs": [],
   "source": [
    "from mod.testing import *\n",
    "import unittest\n",
    "from functools import reduce\n",
    "import statistics as st\n",
    "import math"
   ]
  },
  {
   "cell_type": "markdown",
   "metadata": {},
   "source": [
    "## 1. Write a function that returns the greater of two numbers"
   ]
  },
  {
   "cell_type": "code",
   "execution_count": 7,
   "metadata": {},
   "outputs": [],
   "source": [
    "def greater(a,b):\n",
    "    if a > b:\n",
    "        return(a)\n",
    "    elif a < b:\n",
    "        return(b)\n",
    "    else:\n",
    "        return(None)"
   ]
  },
  {
   "cell_type": "code",
   "execution_count": 6,
   "metadata": {},
   "outputs": [
    {
     "name": "stderr",
     "output_type": "stream",
     "text": [
      "....................................................................................................\n",
      "----------------------------------------------------------------------\n",
      "Ran 100 tests in 0.080s\n",
      "\n",
      "OK\n"
     ]
    }
   ],
   "source": [
    "# This will test your function \n",
    "test_greater(greater)"
   ]
  },
  {
   "cell_type": "markdown",
   "metadata": {},
   "source": [
    "## 2. Now write a function that returns the largest element on a list"
   ]
  },
  {
   "cell_type": "code",
   "execution_count": 13,
   "metadata": {},
   "outputs": [],
   "source": [
    "def greatest(arr):\n",
    "    max = arr[0]\n",
    "    for num in arr:\n",
    "        if num > max:\n",
    "            max = num\n",
    "    return(max)"
   ]
  },
  {
   "cell_type": "code",
   "execution_count": 14,
   "metadata": {},
   "outputs": [
    {
     "name": "stderr",
     "output_type": "stream",
     "text": [
      "....................................................................................................\n",
      "----------------------------------------------------------------------\n",
      "Ran 100 tests in 0.082s\n",
      "\n",
      "OK\n"
     ]
    }
   ],
   "source": [
    "# This will test your function \n",
    "test_greatest(greatest)"
   ]
  },
  {
   "cell_type": "markdown",
   "metadata": {},
   "source": [
    "## 3. Write a function that sums all the elements on a list"
   ]
  },
  {
   "cell_type": "code",
   "execution_count": 63,
   "metadata": {},
   "outputs": [],
   "source": [
    "# opción 1\n",
    "def sum_all(arr):\n",
    "    suma = 0\n",
    "    for num in arr:\n",
    "        suma += num\n",
    "    return(suma)"
   ]
  },
  {
   "cell_type": "code",
   "execution_count": 4,
   "metadata": {},
   "outputs": [],
   "source": [
    "# opción 2\n",
    "def sum_all(arr):\n",
    "    return(reduce(lambda x,y: x+y,arr))"
   ]
  },
  {
   "cell_type": "code",
   "execution_count": 5,
   "metadata": {},
   "outputs": [
    {
     "name": "stderr",
     "output_type": "stream",
     "text": [
      "....................................................................................................\n",
      "----------------------------------------------------------------------\n",
      "Ran 100 tests in 0.094s\n",
      "\n",
      "OK\n"
     ]
    }
   ],
   "source": [
    "# This will test your function \n",
    "test_sum(sum_all)"
   ]
  },
  {
   "cell_type": "markdown",
   "metadata": {},
   "source": [
    "## 4. Write another function that multiplies all the elements on a list"
   ]
  },
  {
   "cell_type": "code",
   "execution_count": 72,
   "metadata": {},
   "outputs": [],
   "source": [
    "def mult_all(arr):\n",
    "    mult = 1\n",
    "    for num in arr:\n",
    "        mult *= num\n",
    "    return(mult)"
   ]
  },
  {
   "cell_type": "code",
   "execution_count": 65,
   "metadata": {},
   "outputs": [
    {
     "name": "stderr",
     "output_type": "stream",
     "text": [
      "....................................................................................................\n",
      "----------------------------------------------------------------------\n",
      "Ran 100 tests in 0.106s\n",
      "\n",
      "OK\n"
     ]
    }
   ],
   "source": [
    "# This will test your function \n",
    "test_mult(mult_all)"
   ]
  },
  {
   "cell_type": "markdown",
   "metadata": {},
   "source": [
    "## 5. Now combine those two ideas and write a function that receives a list and either \"+\" or \"*\" and outputs acordingly"
   ]
  },
  {
   "cell_type": "code",
   "execution_count": 327,
   "metadata": {},
   "outputs": [],
   "source": [
    "def oper_all(arr, oper):\n",
    " \n",
    "    if oper == '+':\n",
    "        suma = 0\n",
    "        for num in arr:\n",
    "            suma += num\n",
    "        return(suma) \n",
    "    \n",
    "    if oper == '*':\n",
    "        mult = 1\n",
    "        for num in arr:\n",
    "            mult *= num\n",
    "        return(mult)"
   ]
  },
  {
   "cell_type": "code",
   "execution_count": 328,
   "metadata": {},
   "outputs": [
    {
     "name": "stderr",
     "output_type": "stream",
     "text": [
      "....................................................................................................\n",
      "----------------------------------------------------------------------\n",
      "Ran 100 tests in 0.077s\n",
      "\n",
      "OK\n"
     ]
    }
   ],
   "source": [
    "# This will test your function \n",
    "test_operations(oper_all)"
   ]
  },
  {
   "cell_type": "markdown",
   "metadata": {},
   "source": [
    "## 6. Write a function that returns the factorial of a number."
   ]
  },
  {
   "cell_type": "code",
   "execution_count": 37,
   "metadata": {},
   "outputs": [],
   "source": [
    "def factorial(n):\n",
    "    fact = 1\n",
    "    for aux in range(1,n+1):\n",
    "        fact *= aux\n",
    "    return(fact)"
   ]
  },
  {
   "cell_type": "code",
   "execution_count": 38,
   "metadata": {},
   "outputs": [
    {
     "name": "stderr",
     "output_type": "stream",
     "text": [
      "....................................................................................................\n",
      "----------------------------------------------------------------------\n",
      "Ran 100 tests in 0.082s\n",
      "\n",
      "OK\n"
     ]
    }
   ],
   "source": [
    "# This will test your function \n",
    "test_factorial(factorial)"
   ]
  },
  {
   "cell_type": "markdown",
   "metadata": {},
   "source": [
    "## 7. Write a function that takes a list and returns a list of the unique values.\n",
    "\n",
    "`NOTE: You cannot use set. 🤔`"
   ]
  },
  {
   "cell_type": "code",
   "execution_count": 43,
   "metadata": {},
   "outputs": [],
   "source": [
    "def unique(arr):\n",
    "    for element in arr:\n",
    "        if arr.count(element) != 1:\n",
    "            arr.remove(element)\n",
    "    return(arr)"
   ]
  },
  {
   "cell_type": "code",
   "execution_count": 44,
   "metadata": {},
   "outputs": [
    {
     "name": "stderr",
     "output_type": "stream",
     "text": [
      "....................................................................................................\n",
      "----------------------------------------------------------------------\n",
      "Ran 100 tests in 0.322s\n",
      "\n",
      "OK\n"
     ]
    }
   ],
   "source": [
    "# This will test your function \n",
    "test_unique(unique)"
   ]
  },
  {
   "cell_type": "markdown",
   "metadata": {},
   "source": [
    "## 8. Write a function that returns the mode of a list, i.e.: the element that appears the most times.\n",
    "`NOTE: You should not use count... 🧐`"
   ]
  },
  {
   "cell_type": "code",
   "execution_count": 49,
   "metadata": {},
   "outputs": [],
   "source": [
    "def mode_counter(arr):\n",
    "    dict_ = {}\n",
    "    for elem in arr:\n",
    "        if dict_[elem] > 1:\n",
    "            dict_[elem] += 1\n",
    "        else:\n",
    "            dict_[elem] = 1\n",
    "    \n",
    "    max_v = dict_[0]\n",
    "    \n",
    "    for k,v in dict_:\n",
    "        if v > max_v:\n",
    "            max_v = v\n",
    "            max_k = k\n",
    "    \n",
    "    return(max_k)"
   ]
  },
  {
   "cell_type": "code",
   "execution_count": 46,
   "metadata": {},
   "outputs": [
    {
     "name": "stderr",
     "output_type": "stream",
     "text": [
      "....................................................................................................\n",
      "----------------------------------------------------------------------\n",
      "Ran 100 tests in 0.083s\n",
      "\n",
      "OK\n"
     ]
    }
   ],
   "source": [
    "# This will test your function \n",
    "test_mode(mode_counter)"
   ]
  },
  {
   "cell_type": "markdown",
   "metadata": {},
   "source": [
    "## 9. Write a function that calculates the standard deviation of a list.\n",
    "`NOTE: Do not use any libraries or already built functions. 😉`"
   ]
  },
  {
   "cell_type": "markdown",
   "metadata": {},
   "source": [
    "Step 1: Compute the mean\n",
    "\n",
    "Step 2: Subtract the mean from each individual observation. This is called deviation \n",
    "\n",
    "Step 3: Take the square of these deviations. These are called squared deviations \n",
    "\n",
    "Step 4: Add all the squared deviations. This is called sum of squares \n",
    "\n",
    "Step 5: Divide the sum of squares by (n-1) where `n` is the number of observations. This is called variance \n",
    "\n",
    "Step 6: Take the square root of variance. This is called standard deviation \n"
   ]
  },
  {
   "cell_type": "code",
   "execution_count": 63,
   "metadata": {},
   "outputs": [
    {
     "data": {
      "text/plain": [
       "3.304037933599835"
      ]
     },
     "execution_count": 63,
     "metadata": {},
     "output_type": "execute_result"
    }
   ],
   "source": [
    "import statistics as st\n",
    "import numpy as np\n",
    "from statistics import stdev\n",
    "def st_dev(arr):\n",
    "    suma_media = 0\n",
    "    cont = 0\n",
    "    dev = []\n",
    "    sqdev = []\n",
    "\n",
    "    #media\n",
    "    for num in arr:\n",
    "        suma_media += num\n",
    "        cont += 1\n",
    "    media = suma_media / (cont) \n",
    "\n",
    "    #deviation\n",
    "    for n in arr:\n",
    "        dev.append((n - media))\n",
    "\n",
    "    #squared deviations\n",
    "    for num in dev:\n",
    "        sqdev.append(num ** 2)\n",
    "    \n",
    "    #sum of squares\n",
    "    sum_squares = sum(sqdev)\n",
    "    \n",
    "    #variance\n",
    "    var = sum_squares / (cont - 1)\n",
    "        \n",
    "    #stdev\n",
    "    std = var ** (1/2)\n",
    "    \n",
    "    return(std)\n",
    "\n",
    "st_dev([1,3,7,8])"
   ]
  },
  {
   "cell_type": "code",
   "execution_count": 62,
   "metadata": {},
   "outputs": [
    {
     "name": "stderr",
     "output_type": "stream",
     "text": [
      "....................................................................................................\n",
      "----------------------------------------------------------------------\n",
      "Ran 100 tests in 0.083s\n",
      "\n",
      "OK\n"
     ]
    }
   ],
   "source": [
    "# This will test your function \n",
    "test_stdev(st_dev)"
   ]
  },
  {
   "cell_type": "markdown",
   "metadata": {},
   "source": [
    "## 10. Write a function to check if a string is a pangram, i.e.: if it contains all the letters of the alphabet at least once. Mind that the strings may contain characters that are not letters."
   ]
  },
  {
   "cell_type": "code",
   "execution_count": 209,
   "metadata": {},
   "outputs": [
    {
     "data": {
      "text/plain": [
       "True"
      ]
     },
     "execution_count": 209,
     "metadata": {},
     "output_type": "execute_result"
    }
   ],
   "source": [
    "def pangram(string):\n",
    "    alphabet = ['a', 'b', 'c', 'd', 'e', 'f', 'g', 'h', 'i', \n",
    "                'j', 'k', 'l', 'm', 'n', 'o', 'p', 'q', 'r', \n",
    "                's', 't', 'u', 'v', 'w', 'x', 'y', 'z']\n",
    "    aux = {}\n",
    "    \n",
    "    for letter in alphabet:\n",
    "        aux[letter] = 0\n",
    "    \n",
    "    for char in string:\n",
    "        if char.lower() in aux:\n",
    "            aux[char.lower()] = True\n",
    "            \n",
    "    for v in aux.values():\n",
    "        if v == False:\n",
    "            return (False)\n",
    "    \n",
    "    return(True)\n",
    "\n",
    "pangram('ABCDEFGHIJKLMNOPQRSTUVWXYZ*')"
   ]
  },
  {
   "cell_type": "code",
   "execution_count": null,
   "metadata": {},
   "outputs": [],
   "source": []
  },
  {
   "cell_type": "code",
   "execution_count": 210,
   "metadata": {},
   "outputs": [
    {
     "name": "stderr",
     "output_type": "stream",
     "text": [
      "..............................\n",
      "----------------------------------------------------------------------\n",
      "Ran 30 tests in 0.030s\n",
      "\n",
      "OK\n"
     ]
    }
   ],
   "source": [
    "# This will test your function \n",
    "test_pangram(pangram)"
   ]
  },
  {
   "cell_type": "markdown",
   "metadata": {},
   "source": [
    "## 11. Write a function that receives a string of comma separated words and returns a string of comma separated words sorted alphabetically.\n",
    "\n",
    "`NOTE: You may use sorted but not split and definitely no join! 🤪`"
   ]
  },
  {
   "cell_type": "code",
   "execution_count": 293,
   "metadata": {},
   "outputs": [],
   "source": [
    "def sort_alpha(string):\n",
    "    aux = ''\n",
    "    words = []\n",
    "    long1 = -1\n",
    "    long2 = 0\n",
    "    string += \",\"\n",
    "\n",
    "    for index, char in enumerate(string):\n",
    "        if char == ',':\n",
    "            long2 = int(index)\n",
    "            words.append(string[(long1+1):long2])\n",
    "            long1 = long2\n",
    "    \n",
    "    for word in sorted(words):\n",
    "        aux += word + ','\n",
    "    \n",
    "    return(aux[:-1])\n"
   ]
  },
  {
   "cell_type": "code",
   "execution_count": 294,
   "metadata": {},
   "outputs": [
    {
     "name": "stderr",
     "output_type": "stream",
     "text": [
      "....................................................................................................\n",
      "----------------------------------------------------------------------\n",
      "Ran 100 tests in 0.075s\n",
      "\n",
      "OK\n"
     ]
    }
   ],
   "source": [
    "# This will test your function \n",
    "test_alpha(sort_alpha)"
   ]
  },
  {
   "cell_type": "markdown",
   "metadata": {},
   "source": [
    "## 12. Write a function to check if a given password is strong (at least 8 characters, at least one lower case, at least one upper case, at least one number and at least one special character). It should output True if strong and False if not.\n",
    "`Valid special characters: # @ ! $ % & ( ) ^ * [ ] { }`"
   ]
  },
  {
   "cell_type": "code",
   "execution_count": 64,
   "metadata": {},
   "outputs": [
    {
     "data": {
      "text/plain": [
       "True"
      ]
     },
     "execution_count": 64,
     "metadata": {},
     "output_type": "execute_result"
    }
   ],
   "source": [
    "def check_pass(string):\n",
    "    count = 0\n",
    "    cond_long = 0\n",
    "    cond_lower = 0\n",
    "    cond_upper = 0\n",
    "    cond_num = 0\n",
    "    cond_char = 0\n",
    "    alphabet_min = ['a', 'b', 'c', 'd', 'e', 'f', 'g', 'h', 'i', \n",
    "                'j', 'k', 'l', 'm', 'n', 'o', 'p', 'q', 'r', \n",
    "                's', 't', 'u', 'v', 'w', 'x', 'y', 'z']\n",
    "    alphabet_may = ['A','B', 'C', 'D', 'E', 'F', 'G', 'H', 'I',\n",
    "                   'J', 'K', 'L', 'M', 'N', 'O', 'P', 'Q', 'R', \n",
    "                   'S', 'T', 'U', 'V','W','X','Y','Z']\n",
    "    num = ['0','1','2','3','4','5','6','7','8','9']\n",
    "    special_char = ['#','@','!','$','%','&','(',')','^','*','[',']','{','}']\n",
    "    \n",
    "    #sacar longitud\n",
    "    for char in string:\n",
    "        count += 1\n",
    "    \n",
    "    #condición de longitud mayor que 8\n",
    "    if count >= 8:\n",
    "        cond_long = 1\n",
    "    \n",
    "    #condición de lowercase\n",
    "    for char in string:\n",
    "        if char in alphabet_min:\n",
    "            cond_lower = 1\n",
    "        \n",
    "    #condición de uppercase\n",
    "    for char in string:\n",
    "        if char in alphabet_may:\n",
    "            cond_upper = 1\n",
    "    \n",
    "    #condición de num\n",
    "    for char in string:\n",
    "        if char in num:\n",
    "            cond_num = 1\n",
    "            \n",
    "    #condición de char \n",
    "    for char in string:\n",
    "        if char in special_char:\n",
    "            cond_char = 1\n",
    "\n",
    "    if (cond_long == 1) and (cond_lower == 1) and (cond_upper == 1) and (cond_num == 1) and (cond_char == 1):\n",
    "        return(True)\n",
    "    else:\n",
    "        return(False)\n",
    "    \n",
    "check_pass('Affjerfu1#')\n",
    "        "
   ]
  },
  {
   "cell_type": "code",
   "execution_count": 235,
   "metadata": {},
   "outputs": [
    {
     "name": "stderr",
     "output_type": "stream",
     "text": [
      "....................................................................................................\n",
      "----------------------------------------------------------------------\n",
      "Ran 100 tests in 0.082s\n",
      "\n",
      "OK\n"
     ]
    }
   ],
   "source": [
    "# This will test your function \n",
    "test_pass(check_pass)"
   ]
  },
  {
   "cell_type": "code",
   "execution_count": null,
   "metadata": {},
   "outputs": [],
   "source": []
  }
 ],
 "metadata": {
  "kernelspec": {
   "display_name": "Python 3",
   "language": "python",
   "name": "python3"
  },
  "language_info": {
   "codemirror_mode": {
    "name": "ipython",
    "version": 3
   },
   "file_extension": ".py",
   "mimetype": "text/x-python",
   "name": "python",
   "nbconvert_exporter": "python",
   "pygments_lexer": "ipython3",
   "version": "3.8.5"
  }
 },
 "nbformat": 4,
 "nbformat_minor": 4
}
